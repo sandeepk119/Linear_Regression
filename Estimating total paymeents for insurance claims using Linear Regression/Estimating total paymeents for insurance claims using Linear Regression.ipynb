{
 "cells": [
  {
   "cell_type": "markdown",
   "metadata": {
    "id": "GsJnv7_wZzlZ"
   },
   "source": [
    "# Estimating total payments for insurance claims\n",
    "\n",
    "Dataset: The Swedish Auto Insurance Dataset \n",
    "\n",
    "It involves predicting the total payment for all claims in thousands of Swedish Kronor(Y column), given the total number of claims(X).\n",
    "\n",
    "Swedish Auto Insurance Dataset:\n",
    "* [Download](http://college.cengage.com/mathematics/brase/understandable_statistics/7e/students/datasets/slr/excel/slr06.xls)\n",
    "* [More Information](http://college.cengage.com/mathematics/brase/understandable_statistics/7e/students/datasets/slr/frames/slr06.html)\n"
   ]
  },
  {
   "cell_type": "markdown",
   "metadata": {
    "id": "x1nnEgQlZzlg"
   },
   "source": [
    "###### Q1: Why you want to apply regression on selected dataset? Discuss full story behind dataset.\n",
    "\n",
    "The Swedish Auto Insurance data set contains two columns (X,Y) as shown in code below. The X column represents the number of claims and the Y represents the total payment amount in Swedish Kronor. \n",
    "\n",
    "As dependent variable is continuous data regression is suitable model to use here.\n",
    "\n",
    "Also, it is expected that as the number of claims increases, total claim amount will also increase.This is indicating application of linear regression.\n",
    "\n",
    "Using Simple Linear Regression it is possible to identify the relation between the number of claims and the total payment. This relation can be stored and used for, to predict the total payment for a new number of claims. \n",
    "\n",
    "In reality, this could be used to estimate a budget for a new period. For example, the insurance company expects 100 claims in the new period, how much money do they have to put aside?\n",
    "\n",
    "Source: https://www.hannesholst.com/blog/machine-learning/machine-learning-from-scratch-with-c-al/"
   ]
  },
  {
   "cell_type": "code",
   "execution_count": null,
   "metadata": {
    "collapsed": true,
    "id": "yKBU-ZXOZzlh"
   },
   "outputs": [],
   "source": [
    "## Importing required packages\n",
    "import warnings\n",
    "warnings.filterwarnings('ignore')\n",
    "\n",
    "import numpy as np\n",
    "import pandas as pd\n",
    "from matplotlib import pyplot as plt\n",
    "from sklearn import linear_model\n",
    "from sklearn.metrics import mean_squared_error\n",
    "from math import sqrt\n",
    "from sklearn.metrics import r2_score"
   ]
  },
  {
   "cell_type": "code",
   "execution_count": null,
   "metadata": {
    "id": "0VjiArvJZzli",
    "outputId": "fbd45763-95ed-41ee-dfa3-d611f69f862c"
   },
   "outputs": [
    {
     "data": {
      "text/html": [
       "<div>\n",
       "<table border=\"1\" class=\"dataframe\">\n",
       "  <thead>\n",
       "    <tr style=\"text-align: right;\">\n",
       "      <th></th>\n",
       "      <th>X</th>\n",
       "      <th>Y</th>\n",
       "    </tr>\n",
       "  </thead>\n",
       "  <tbody>\n",
       "    <tr>\n",
       "      <th>0</th>\n",
       "      <td>108</td>\n",
       "      <td>392.5</td>\n",
       "    </tr>\n",
       "    <tr>\n",
       "      <th>1</th>\n",
       "      <td>19</td>\n",
       "      <td>46.2</td>\n",
       "    </tr>\n",
       "    <tr>\n",
       "      <th>2</th>\n",
       "      <td>13</td>\n",
       "      <td>15.7</td>\n",
       "    </tr>\n",
       "    <tr>\n",
       "      <th>3</th>\n",
       "      <td>124</td>\n",
       "      <td>422.2</td>\n",
       "    </tr>\n",
       "    <tr>\n",
       "      <th>4</th>\n",
       "      <td>40</td>\n",
       "      <td>119.4</td>\n",
       "    </tr>\n",
       "  </tbody>\n",
       "</table>\n",
       "</div>"
      ],
      "text/plain": [
       "     X      Y\n",
       "0  108  392.5\n",
       "1   19   46.2\n",
       "2   13   15.7\n",
       "3  124  422.2\n",
       "4   40  119.4"
      ]
     },
     "execution_count": 3,
     "metadata": {},
     "output_type": "execute_result"
    }
   ],
   "source": [
    "## Import data\n",
    "data = pd.read_csv('slr06.csv')\n",
    "\n",
    "## let's see what's there in data\n",
    "data.head()"
   ]
  },
  {
   "cell_type": "markdown",
   "metadata": {
    "id": "-kjGKI5WZzlk"
   },
   "source": [
    "###### Q2: How many total observations in data?\n",
    "\n",
    "There are total 63 observations in data from code below.\n",
    "\n",
    "###### Q3: How many independent variables?\n",
    "There are total two columns out of which one is dependent and one is independent. Here, X is independent variable which indicates total number of claims.\n",
    "\n",
    "###### Q4: Which is dependent variable?\n",
    "Y is dependent variable which is indicating total amount of claims in specific observation."
   ]
  },
  {
   "cell_type": "code",
   "execution_count": null,
   "metadata": {
    "id": "XbECtS1cZzlk",
    "outputId": "a9d25e72-65c1-4b1e-9c03-96dfbf9a07d3"
   },
   "outputs": [
    {
     "data": {
      "text/plain": [
       "(63, 2)"
      ]
     },
     "execution_count": 6,
     "metadata": {},
     "output_type": "execute_result"
    }
   ],
   "source": [
    "## Shape will give us dimentions of data\n",
    "## here this data is two dimentional and has 63 rows, two columns\n",
    "data.shape"
   ]
  },
  {
   "cell_type": "markdown",
   "metadata": {
    "id": "nodGSaUZZzll"
   },
   "source": [
    "###### Q5: Which are most useful variable in estimation? Prove using correlation.\n",
    "\n",
    "Here, data has only one independent variable which has linear correlation with independent variable. This can be visulized using Scatter plot below.\n",
    "\n",
    "Understanding: Correlation is a statistical technique that can show whether and how strongly pairs of variables are related. For example, height and weight are related; taller people tend to be heavier than shorter people.\n",
    "Source: https://www.surveysystem.com/correlation.htm\n",
    "\n",
    "If there are more than one independent variable, not all independent variables contributes equally in estimation of dependent variable. This can be quatified using correlation between dependent and independent variable.\n",
    "\n",
    "corr function is sklearn can be used to find correlation between variables. \n",
    "We can find correlation of each independent variable with dependent vatiable using loop, store them in a list/dataframe, sort them and finally decide which varible to use in delveloping model."
   ]
  },
  {
   "cell_type": "code",
   "execution_count": null,
   "metadata": {
    "id": "TO93mvnZZzlm",
    "outputId": "dc6f74d7-0ba0-4ca3-a78b-435a82875583"
   },
   "outputs": [
    {
     "data": {
      "text/html": [
       "<div>\n",
       "<table border=\"1\" class=\"dataframe\">\n",
       "  <thead>\n",
       "    <tr style=\"text-align: right;\">\n",
       "      <th></th>\n",
       "      <th>Y</th>\n",
       "    </tr>\n",
       "  </thead>\n",
       "  <tbody>\n",
       "    <tr>\n",
       "      <th>X</th>\n",
       "      <td>0.912878</td>\n",
       "    </tr>\n",
       "  </tbody>\n",
       "</table>\n",
       "</div>"
      ],
      "text/plain": [
       "          Y\n",
       "X  0.912878"
      ]
     },
     "execution_count": 25,
     "metadata": {},
     "output_type": "execute_result"
    }
   ],
   "source": [
    "## Using corr to find correlation between x and y\n",
    "\n",
    "d = data.corr()\n",
    "d.iloc[0:1,1:]"
   ]
  },
  {
   "cell_type": "code",
   "execution_count": null,
   "metadata": {
    "id": "c7vsj2UlZzln",
    "outputId": "ce9b2c17-f7b6-4d7b-b76c-5f58a45d4742"
   },
   "outputs": [
    {
     "data": {
      "image/png": "[encoded data removed]",
      "text/plain": [
       "<matplotlib.figure.Figure at 0xc9b5518>"
      ]
     },
     "metadata": {},
     "output_type": "display_data"
    }
   ],
   "source": [
    "## Correlation chart: Scatterplot can be used to visulize correlation between two variables\n",
    "\n",
    "plt.scatter(data.X, data.Y)\n",
    "plt.show()"
   ]
  },
  {
   "cell_type": "markdown",
   "metadata": {
    "id": "DF8BvEJLZzlo"
   },
   "source": [
    "## Linear regression basics"
   ]
  },
  {
   "cell_type": "markdown",
   "metadata": {
    "id": "v9qG7uY_Zzlo"
   },
   "source": [
    "** Linear Regression is a method used to define a relationship between a dependent variable (Y) and independent variable (X). Which is simply written as : **\n",
    "<img src = \"y=mx+b.png\" height = 200 width = \"300\"/>\n",
    "\n",
    "*Where y is the dependent variable, m is the scale factor or coefficient, b being the bias coefficient and X being the independent variable.*\n",
    "\n",
    "Following two methods will be used here to find m slope and intercept b.\n",
    "\n",
    "### Least Squares\n",
    "    The method of Least Squares minimizes the sum of the squares of the residuals between the observed targets in the dataset, and the targets predicted by the linear approximation.\n",
    "    \n",
    "    In this method followng formula is used to find slope m and intercept c.\n",
    "\n",
    "<img src = \"leastSquares.PNG\" height = 200 width = \"300\"/>\n",
    "    \n",
    "    - x_bar is sum of x values\n",
    "    - y_bar is sum of y values\n",
    "    \n",
    "<b> Note: For python code refer following code. </b>\n",
    "\n",
    "### Gradient Descent\n",
    "    This method can be considered universal learning method in the field of machine leanring. It is simple start at randon and gradually reduce error. Following image visulizes method of gradient descent.\n",
    "    \n",
    "    <img src = \"linear_regression.gif\" height = 400 width = \"600\"/>\n",
    "  \n",
    "    Wikipedia: https://en.wikipedia.org/wiki/Linear_regression\n",
    "    \n",
    "    This can be done by updating values of slope and intercept iteratively.\n",
    "    \n",
    "##### Details of Gradient Descent    \n",
    "    \n",
    "We will take m=0 and b=0 as initial values which is just horizontal line. \n",
    "\n",
    "Our challenge is to determine the value of optimum values of m and c, such that the line corresponding to those values is the best fitting line or gives the minimum error.\n",
    "\n",
    "Error in current values of m and b is called loss function. It means that we need to optimize loss function to reduce error in m and b.\n",
    "\n",
    "Our loss function will be the Root Mean Squared Error function to calculate the loss and is given by following equation.\n",
    "\n",
    "<img src = \"meansqurederror.jpeg\" height = \"50\" />\n",
    "\n",
    "Here yᵢ is the actual value and ȳᵢ is the predicted value. \n",
    "\n",
    "Lets substitute the value of ȳᵢ:\n",
    "\n",
    "<img src = \"meansqurederrorsub.jpeg\" height = 100/>\n",
    "\n",
    "Here, we have mean of squred error, hence the name Mean Squared Error. \n",
    "\n",
    "Now, let's understand how to optimize values of m and b.\n",
    "\n",
    "#### Gradient descent\n",
    "We will optimize m and b using Gradient descent. It is an iterative optimization algorithm to find the minimum of a function. \n",
    "\n",
    "Imagine a valley and a person as in following image.\n",
    "\n",
    "<img src = \"gd.jpeg\" width = \"500\" />\n",
    "\n",
    "A person has no sense of direction who wants to get to the bottom of the valley. He goes down the slope and takes large steps when the slope is steep and small steps when the slope is less steep. He decides his next position based on his current position and stops when he gets to the bottom of the valley which was his goal.\n",
    "\n",
    "Let’s try applying gradient descent to m and c and approach it step by step:\n",
    "\n",
    "1. Initially let m = 0 and c = 0. Let L be our learning rate. This controls how much the value of m changes with each step. L could be a small value like 0.0001 for good accuracy.\n",
    "\n",
    "We will define these all as below.\n",
    "\n",
    "m = 0\n",
    "\n",
    "b = 0\n",
    "\n",
    "learning_rate = 0.01\n",
    "\n",
    "2. Calculate the partial derivative of the loss function with respect to m, and plug in the current values of x, y, m and c in it to obtain the derivative value D. As it is in following equation.\n",
    "\n",
    "<img src = \"dm.jpeg\" />\n",
    "\n",
    "This can be written in code as,\n",
    "\n",
    "D_m = (-2/n) * sum(X * (Y - Y_pred))\n",
    "\n",
    "3. Similarly lets find the partial derivative with respect to c, Dc :\n",
    "\n",
    "<img src = \"dc.jpeg\" />\n",
    "\n",
    "and code for dc is given below,\n",
    "\n",
    "D_c = (-2/n) * sum(Y - Y_pred)\n",
    "\n",
    "4. Now we update the current value of m and c using the following equation:\n",
    "<img src = \"mc.jpeg\" />\n",
    "\n",
    "m = m - L * D_m  # Update m\n",
    "\n",
    "c = c - L * D_c  # Update c\n",
    "\n",
    "5. We repeat this process until our loss function is a very small value or ideally 0 (which means 0 error or 100% accuracy). The value of m and c that we are left with now will be the optimum values.\n",
    "\n",
    "Practically we will repeat this process for 1000 time which is defined as,\n",
    "\n",
    "epochs = 1000 \n",
    "_________________________________________________________\n",
    "\n",
    "Now going back to our analogy, m can be considered the current position of the person. D is equivalent to the steepness of the slope and L can be the speed with which he moves. Now the new value of m that we calculate using the above equation will be his next position, and L×D will be the size of the steps he will take. When the slope is more steep (D is more) he takes longer steps and when it is less steep (D is less), he takes smaller steps. Finally he arrives at the bottom of the valley which corresponds to our loss = 0.\n",
    "Now with the optimum value of m and c our model is ready to make predictions !\n"
   ]
  },
  {
   "cell_type": "markdown",
   "metadata": {
    "id": "zpXQC5jnZzlq"
   },
   "source": [
    "# Implementation of linear regression using OLS"
   ]
  },
  {
   "cell_type": "code",
   "execution_count": null,
   "metadata": {
    "id": "TgeLyLLvZzlr",
    "outputId": "5cc05be5-6156-4bab-9369-3527a6098286"
   },
   "outputs": [
    {
     "name": "stdout",
     "output_type": "stream",
     "text": [
      "(22L, 98.18730158730159)\n",
      "(3.4086241933056853, 23.197569334576514)\n"
     ]
    }
   ],
   "source": [
    "df = data\n",
    "x_bar = df.X.sum()/df.X.count()\n",
    "y_bar = df.Y.sum()/df.Y.count()\n",
    "print(x_bar,y_bar)\n",
    "\n",
    "n = ((df.X-x_bar) * (df.Y-y_bar)).sum()\n",
    "d = ((df.X-x_bar)**2).sum()\n",
    "m = n/d\n",
    "b = y_bar - m* x_bar\n",
    "print(m, b)"
   ]
  },
  {
   "cell_type": "markdown",
   "metadata": {
    "id": "Mp_47xXfZzlr"
   },
   "source": [
    "##### Plotting the line along data"
   ]
  },
  {
   "cell_type": "code",
   "execution_count": null,
   "metadata": {
    "id": "boW2uRGDZzlr",
    "outputId": "c4b5e1a1-d9f1-4bd1-e207-fd17191a83da"
   },
   "outputs": [
    {
     "data": {
      "image/png": "[encoded data removed]",
      "text/plain": [
       "<matplotlib.figure.Figure at 0xc20e128>"
      ]
     },
     "metadata": {},
     "output_type": "display_data"
    }
   ],
   "source": [
    "predicted_df = pd.DataFrame(data = range(0,df.X.max()), columns={'X'})\n",
    "predicted_df['Y'] = predicted_df.X*m + (b)\n",
    "\n",
    "x = predicted_df['X']\n",
    "y = predicted_df['Y']\n",
    "\n",
    "plt.plot(x,y,c='black')\n",
    "plt.scatter(df.X, df.Y)\n",
    "plt.xlabel('X')\n",
    "plt.ylabel('Y')\n",
    "plt.title('Plot for Regression line fit')\n",
    "#plt.legend()\n",
    "plt.show()\n",
    "#n = (X - x_bar)  * (Y - y_bar)"
   ]
  },
  {
   "cell_type": "markdown",
   "metadata": {
    "id": "3ohlsgbwZzls"
   },
   "source": [
    "###### Q6: Quantify goodness of your model and discuss steps taken for improvement (RMSE, SSE, R2Score).\n",
    "\n",
    "1. In sklearn mean_squared_error function can be used to find RMSE, SSE\n",
    "\n",
    "    RMSE = square root of (mean_squared_error)\n",
    "    \n",
    "    SSE  = mean_squared_error * total Number of observations\n",
    "    \n",
    "2. In sklearn r2_score function is available to find r2_score\n"
   ]
  },
  {
   "cell_type": "code",
   "execution_count": null,
   "metadata": {
    "id": "EdpJO8nNZzls",
    "outputId": "a4dd11b0-4440-4655-93c1-7b8478db42a3"
   },
   "outputs": [
    {
     "name": "stdout",
     "output_type": "stream",
     "text": [
      "('RMSE = ', 35.50024579989234)\n",
      "('SSE = ', 79396.849466724758)\n",
      "('r2score= ', 0.83207745729679972)\n"
     ]
    }
   ],
   "source": [
    "RMSE = sqrt(mean_squared_error(df.Y, m*df.X+b))\n",
    "SSE  = mean_squared_error(df.Y, m*df.X+b) * len(df.Y)\n",
    "r2   = r2_score(df.Y, m*df.X+b)\n",
    "print(\"RMSE = \", RMSE)\n",
    "print(\"SSE = \", SSE)\n",
    "print(\"r2score= \", r2)"
   ]
  },
  {
   "cell_type": "markdown",
   "metadata": {
    "id": "zI0_nch-Zzls"
   },
   "source": [
    "# Implementation of linear regression using Gradient Descent"
   ]
  },
  {
   "cell_type": "code",
   "execution_count": null,
   "metadata": {
    "id": "M1jSjeZJZzlt",
    "outputId": "df5633ff-7ed1-4ceb-f8b0-940803712efa"
   },
   "outputs": [
    {
     "name": "stdout",
     "output_type": "stream",
     "text": [
      "(3.8394356447863212, 0.28326102562162586)\n"
     ]
    }
   ],
   "source": [
    "# Select Data\n",
    "\n",
    "X = df.iloc[:, 0]\n",
    "Y = df.iloc[:, 1]\n",
    "\n",
    "m = 0\n",
    "c = 0\n",
    "\n",
    "L      = 0.00001  # The learning Rate\n",
    "epochs = 1000  # The number of iterations to perform gradient descent\n",
    "\n",
    "n = float(len(X)) # Number of elements in X\n",
    "\n",
    "# Performing Gradient Descent \n",
    "for i in range(epochs): \n",
    "    Y_pred = m*X + c  # The current predicted value of Y\n",
    "    D_m = (-2/n) * sum(X * (Y - Y_pred))  # Derivative wrt m\n",
    "    D_c = (-2/n) * sum(Y - Y_pred)  # Derivative wrt c\n",
    "    m = m - L * D_m  # Update m\n",
    "    c = c - L * D_c  # Update c\n",
    "print (m, c)"
   ]
  },
  {
   "cell_type": "markdown",
   "metadata": {
    "id": "nooelzerZzlt"
   },
   "source": [
    "###### Q6: Quantify goodness of your model and discuss steps taken for improvement (RMSE, SSE, R2Score)."
   ]
  },
  {
   "cell_type": "code",
   "execution_count": null,
   "metadata": {
    "id": "gWUKOPOwZzlu",
    "outputId": "fd6b4c7f-1db1-4b0b-b3d7-48f954fd0ab2"
   },
   "outputs": [
    {
     "name": "stdout",
     "output_type": "stream",
     "text": [
      "('RMSE = ', 38.93198889972306)\n",
      "('SSE = ', 95489.084860354051)\n",
      "('r2score= ', 0.79804274303261247)\n"
     ]
    }
   ],
   "source": [
    "RMSE = sqrt(mean_squared_error(df.Y, m*df.X+b))\n",
    "SSE  = mean_squared_error(df.Y, m*df.X+b) * len(df.Y)\n",
    "r2   = r2_score(df.Y, m*df.X+b)\n",
    "print(\"RMSE = \", RMSE)\n",
    "print(\"SSE = \", SSE)\n",
    "print(\"r2score= \", r2)"
   ]
  },
  {
   "cell_type": "markdown",
   "metadata": {
    "id": "7mW02DY1Zzlv"
   },
   "source": [
    "# Implementation of linear regression Using sklearn API"
   ]
  },
  {
   "cell_type": "code",
   "execution_count": null,
   "metadata": {
    "id": "JncdcqFDZzlv",
    "outputId": "577d1d63-b61b-4adb-b3e5-5fe1e6102786"
   },
   "outputs": [
    {
     "data": {
      "text/plain": [
       "LinearRegression(copy_X=True, fit_intercept=True, n_jobs=1, normalize=False)"
      ]
     },
     "execution_count": 50,
     "metadata": {},
     "output_type": "execute_result"
    }
   ],
   "source": [
    "# Select Data\n",
    "X = pd.DataFrame(df.X)\n",
    "Y = df.Y\n",
    "\n",
    "# Create object of algorithm\n",
    "rg = linear_model.LinearRegression()\n",
    "# Create model by fitting data\n",
    "rg.fit(X, Y)\n"
   ]
  },
  {
   "cell_type": "markdown",
   "metadata": {
    "id": "7qmvDG4qZzlw"
   },
   "source": [
    "###### Q6: Quantify goodness of your model and discuss steps taken for improvement (RMSE, SSE, R2Score)."
   ]
  },
  {
   "cell_type": "code",
   "execution_count": null,
   "metadata": {
    "id": "ljB4KjjWZzlw",
    "outputId": "b3a4632d-bc26-48af-d821-faa6f385985e"
   },
   "outputs": [
    {
     "name": "stdout",
     "output_type": "stream",
     "text": [
      "('RMSE = ', 38.93198889972306)\n",
      "('SSE = ', 95489.084860354051)\n",
      "('r2score= ', 0.79804274303261247)\n"
     ]
    }
   ],
   "source": [
    "RMSE = sqrt(mean_squared_error(df.Y, m*df.X+b))\n",
    "SSE  = mean_squared_error(df.Y, m*df.X+b) * len(df.Y)\n",
    "r2   = r2_score(df.Y, m*df.X+b)\n",
    "print(\"RMSE = \", RMSE)\n",
    "print(\"SSE = \", SSE)\n",
    "print(\"r2score= \", r2)"
   ]
  },
  {
   "cell_type": "markdown",
   "metadata": {
    "id": "LGO37cwIZzlw"
   },
   "source": [
    "### Plot data with Regression Line"
   ]
  },
  {
   "cell_type": "code",
   "execution_count": null,
   "metadata": {
    "id": "vfbGTPkqZzlx",
    "outputId": "016bb5a4-f66f-499f-aea9-0886801d6985"
   },
   "outputs": [
    {
     "data": {
      "image/png": "[encoded data removed]",
      "text/plain": [
       "<matplotlib.figure.Figure at 0xcbfde10>"
      ]
     },
     "metadata": {},
     "output_type": "display_data"
    }
   ],
   "source": [
    "x = range(0,X.max())\n",
    "y = x*rg.coef_\n",
    "\n",
    "#fig, ax = plt.subplots(figsize=(12,6))\n",
    "\n",
    "plt.plot(x,y,c='black')\n",
    "plt.scatter(df.X, df.Y)\n",
    "plt.xlabel('X')\n",
    "plt.ylabel('Y')\n",
    "plt.title('Plot for Regression line fit on Train and Test data')\n",
    "#plt.legend()\n",
    "plt.show()"
   ]
  }
 ],
 "metadata": {
  "anaconda-cloud": {},
  "colab": {
   "name": "Linear Regression.ipynb",
   "provenance": []
  },
  "kernelspec": {
   "display_name": "Python 3 (ipykernel)",
   "language": "python",
   "name": "python3"
  },
  "language_info": {
   "codemirror_mode": {
    "name": "ipython",
    "version": 3
   },
   "file_extension": ".py",
   "mimetype": "text/x-python",
   "name": "python",
   "nbconvert_exporter": "python",
   "pygments_lexer": "ipython3",
   "version": "3.9.7"
  }
 },
 "nbformat": 4,
 "nbformat_minor": 1
}
