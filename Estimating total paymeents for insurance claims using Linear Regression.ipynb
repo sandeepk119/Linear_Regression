{
 "cells": [
  {
   "cell_type": "markdown",
   "metadata": {
    "id": "GsJnv7_wZzlZ"
   },
   "source": [
    "# Estimating total payments for insurance claims\n",
    "\n",
    "Dataset: The Swedish Auto Insurance Dataset \n",
    "\n",
    "It involves predicting the total payment for all claims in thousands of Swedish Kronor(Y column), given the total number of claims(X column).\n",
    "\n",
    "Swedish Auto Insurance Dataset:\n",
    "* [Download](http://college.cengage.com/mathematics/brase/understandable_statistics/7e/students/datasets/slr/excel/slr06.xls)\n",
    "* [More Information](http://college.cengage.com/mathematics/brase/understandable_statistics/7e/students/datasets/slr/frames/slr06.html)\n"
   ]
  },
  {
   "cell_type": "markdown",
   "metadata": {
    "id": "x1nnEgQlZzlg"
   },
   "source": [
    "#### Why do we want to apply regression on selected dataset?\n",
    "\n",
    "The Swedish Auto Insurance data set contains two columns (X,Y) as shown in code below. The X column represents the number of claims and the Y represents the total payment amount in Swedish Kronor. \n",
    "\n",
    "As dependent variable is continuous data, regression is suitable model to use here.\n",
    "\n",
    "Also, it is expected that as the number of claims increases, total claim amount will also increase.This is indicating application of linear regression.\n",
    "\n",
    "Using Simple Linear Regression it is possible to identify the relation between the number of claims and the total payment. This relation can be stored and used to predict the total payment for a new number of claims. \n",
    "\n",
    "In reality, this could be used to estimate a budget for a new period. For example, the insurance company expects 100 claims in the new period, how much money do they have to put aside?"
   ]
  },
  {
   "cell_type": "code",
   "execution_count": 1,
   "metadata": {
    "id": "yKBU-ZXOZzlh"
   },
   "outputs": [],
   "source": [
    "## Importing required packages\n",
    "import warnings\n",
    "warnings.filterwarnings('ignore')\n",
    "\n",
    "import numpy as np\n",
    "import pandas as pd\n",
    "from matplotlib import pyplot as plt\n",
    "from sklearn import linear_model\n",
    "from sklearn.metrics import mean_squared_error\n",
    "from math import sqrt\n",
    "from sklearn.metrics import r2_score"
   ]
  },
  {
   "cell_type": "code",
   "execution_count": 2,
   "metadata": {
    "id": "0VjiArvJZzli",
    "outputId": "fbd45763-95ed-41ee-dfa3-d611f69f862c"
   },
   "outputs": [
    {
     "data": {
      "text/html": [
       "<div>\n",
       "<style scoped>\n",
       "    .dataframe tbody tr th:only-of-type {\n",
       "        vertical-align: middle;\n",
       "    }\n",
       "\n",
       "    .dataframe tbody tr th {\n",
       "        vertical-align: top;\n",
       "    }\n",
       "\n",
       "    .dataframe thead th {\n",
       "        text-align: right;\n",
       "    }\n",
       "</style>\n",
       "<table border=\"1\" class=\"dataframe\">\n",
       "  <thead>\n",
       "    <tr style=\"text-align: right;\">\n",
       "      <th></th>\n",
       "      <th>X</th>\n",
       "      <th>Y</th>\n",
       "    </tr>\n",
       "  </thead>\n",
       "  <tbody>\n",
       "    <tr>\n",
       "      <th>0</th>\n",
       "      <td>108</td>\n",
       "      <td>392.5</td>\n",
       "    </tr>\n",
       "    <tr>\n",
       "      <th>1</th>\n",
       "      <td>19</td>\n",
       "      <td>46.2</td>\n",
       "    </tr>\n",
       "    <tr>\n",
       "      <th>2</th>\n",
       "      <td>13</td>\n",
       "      <td>15.7</td>\n",
       "    </tr>\n",
       "    <tr>\n",
       "      <th>3</th>\n",
       "      <td>124</td>\n",
       "      <td>422.2</td>\n",
       "    </tr>\n",
       "    <tr>\n",
       "      <th>4</th>\n",
       "      <td>40</td>\n",
       "      <td>119.4</td>\n",
       "    </tr>\n",
       "  </tbody>\n",
       "</table>\n",
       "</div>"
      ],
      "text/plain": [
       "     X      Y\n",
       "0  108  392.5\n",
       "1   19   46.2\n",
       "2   13   15.7\n",
       "3  124  422.2\n",
       "4   40  119.4"
      ]
     },
     "execution_count": 2,
     "metadata": {},
     "output_type": "execute_result"
    }
   ],
   "source": [
    "# Import data\n",
    "data = pd.read_excel('slr06.xlsx')\n",
    "\n",
    "# let's see what's there in data\n",
    "data.head()"
   ]
  },
  {
   "cell_type": "code",
   "execution_count": 3,
   "metadata": {
    "id": "XbECtS1cZzlk",
    "outputId": "a9d25e72-65c1-4b1e-9c03-96dfbf9a07d3"
   },
   "outputs": [
    {
     "data": {
      "text/plain": [
       "(63, 2)"
      ]
     },
     "execution_count": 3,
     "metadata": {},
     "output_type": "execute_result"
    }
   ],
   "source": [
    "# Shape will give us dimentions of data\n",
    "data.shape"
   ]
  },
  {
   "cell_type": "markdown",
   "metadata": {
    "id": "-kjGKI5WZzlk"
   },
   "source": [
    "####  Observations in data\n",
    "\n",
    "There are total 63 observations in data from code below.\n",
    "There are total two columns out of which one is dependent and one is independent. Here, X is independent variable which indicates total number of claims. Y is dependent variable which is indicating total amount of claims in specific observation."
   ]
  },
  {
   "cell_type": "markdown",
   "metadata": {
    "id": "nodGSaUZZzll"
   },
   "source": [
    "###### Which are most useful variable in estimation? \n",
    "\n",
    "Here, data has only one independent variable which has linear correlation with independent variable. This can be visulized using Scatter plot below.\n",
    "\n",
    "Understanding: Correlation is a statistical technique that can show whether and how strongly pairs of variables are related. For example, height and weight are related; taller people tend to be heavier than shorter people.\n",
    "\n",
    "If there are more than one independent variable, not all independent variables contributes equally in estimation of dependent variable. This can be quatified using correlation between dependent and independent variable.\n",
    "\n",
    "corr function in sklearn can be used to find correlation between variables. \n",
    "We can find correlation of each independent variable with dependent vatiable using loop, store them in a list/dataframe, sort them and finally decide which varible to use in delveloping model."
   ]
  },
  {
   "cell_type": "code",
   "execution_count": 4,
   "metadata": {
    "id": "TO93mvnZZzlm",
    "outputId": "dc6f74d7-0ba0-4ca3-a78b-435a82875583"
   },
   "outputs": [
    {
     "data": {
      "text/html": [
       "<div>\n",
       "<style scoped>\n",
       "    .dataframe tbody tr th:only-of-type {\n",
       "        vertical-align: middle;\n",
       "    }\n",
       "\n",
       "    .dataframe tbody tr th {\n",
       "        vertical-align: top;\n",
       "    }\n",
       "\n",
       "    .dataframe thead th {\n",
       "        text-align: right;\n",
       "    }\n",
       "</style>\n",
       "<table border=\"1\" class=\"dataframe\">\n",
       "  <thead>\n",
       "    <tr style=\"text-align: right;\">\n",
       "      <th></th>\n",
       "      <th>Y</th>\n",
       "    </tr>\n",
       "  </thead>\n",
       "  <tbody>\n",
       "    <tr>\n",
       "      <th>X</th>\n",
       "      <td>0.912878</td>\n",
       "    </tr>\n",
       "  </tbody>\n",
       "</table>\n",
       "</div>"
      ],
      "text/plain": [
       "          Y\n",
       "X  0.912878"
      ]
     },
     "execution_count": 4,
     "metadata": {},
     "output_type": "execute_result"
    }
   ],
   "source": [
    "# Using corr to find correlation between x and y\n",
    "d = data.corr()\n",
    "d.iloc[0:1,1:]"
   ]
  },
  {
   "cell_type": "code",
   "execution_count": 5,
   "metadata": {
    "id": "c7vsj2UlZzln",
    "outputId": "ce9b2c17-f7b6-4d7b-b76c-5f58a45d4742"
   },
   "outputs": [
    {
     "data": {
      "image/png": "[encoded data removed]",
      "text/plain": [
       "<Figure size 432x288 with 1 Axes>"
      ]
     },
     "metadata": {
      "needs_background": "light"
     },
     "output_type": "display_data"
    }
   ],
   "source": [
    "# Correlation chart: Scatterplot can be used to visulize correlation between two variables\n",
    "plt.scatter(data.X, data.Y)\n",
    "plt.show()"
   ]
  },
  {
   "cell_type": "markdown",
   "metadata": {
    "id": "DF8BvEJLZzlo"
   },
   "source": [
    "Following two methods will be used here to find slope(m) and intercept(c) -\n",
    "1. Least Squares  \n",
    "2. Gradient Descent"
   ]
  },
  {
   "cell_type": "markdown",
   "metadata": {
    "id": "zpXQC5jnZzlq"
   },
   "source": [
    "# Implementation of linear regression using Ordinary least squares (OLS)"
   ]
  },
  {
   "cell_type": "code",
   "execution_count": 6,
   "metadata": {
    "id": "TgeLyLLvZzlr",
    "outputId": "5cc05be5-6156-4bab-9369-3527a6098286"
   },
   "outputs": [
    {
     "name": "stdout",
     "output_type": "stream",
     "text": [
      "x_bar: 22.904761904761905\n",
      "y_bar: 98.18730158730159\n",
      "m: 3.413823560066367\n",
      "c: 19.99448575911481\n"
     ]
    }
   ],
   "source": [
    "df = data\n",
    "x_bar = df.X.sum()/df.X.count() \n",
    "y_bar = df.Y.sum()/df.Y.count()\n",
    "print(\"x_bar: \" + str(x_bar) + \"\\ny_bar: \" + str(y_bar))\n",
    "\n",
    "n = ((df.X-x_bar) * (df.Y-y_bar)).sum()\n",
    "d = ((df.X-x_bar)**2).sum()\n",
    "m = n/d\n",
    "c = y_bar - m* x_bar\n",
    "print(\"m: \" + str(m) + \"\\nc: \" + str(c))"
   ]
  },
  {
   "cell_type": "markdown",
   "metadata": {
    "id": "Mp_47xXfZzlr"
   },
   "source": [
    "### Plotting the line along data"
   ]
  },
  {
   "cell_type": "code",
   "execution_count": 7,
   "metadata": {
    "id": "boW2uRGDZzlr",
    "outputId": "c4b5e1a1-d9f1-4bd1-e207-fd17191a83da"
   },
   "outputs": [
    {
     "data": {
      "image/png": "[encoded data removed]",
      "text/plain": [
       "<Figure size 432x288 with 1 Axes>"
      ]
     },
     "metadata": {
      "needs_background": "light"
     },
     "output_type": "display_data"
    }
   ],
   "source": [
    "predicted_df = pd.DataFrame(data = range(0,df.X.max()), columns={'X'})\n",
    "predicted_df['Y'] = predicted_df.X*m + (c)\n",
    "\n",
    "x = predicted_df['X']\n",
    "y = predicted_df['Y']\n",
    "\n",
    "plt.plot(x,y,c='black')\n",
    "plt.scatter(df.X, df.Y)\n",
    "plt.xlabel('X')\n",
    "plt.ylabel('Y')\n",
    "plt.title('Plot for Regression line fit')\n",
    "plt.show()"
   ]
  },
  {
   "cell_type": "markdown",
   "metadata": {
    "id": "3ohlsgbwZzls"
   },
   "source": [
    "### Quantify goodness of the model and steps taken for improvement (RMSE, SSE, R2Score).\n",
    "\n",
    "1. In sklearn mean_squared_error function can be used to find RMSE, SSE\n",
    "   * RMSE = square root of (mean_squared_error)\n",
    "   * SSE  = mean_squared_error * total Number of observations\n",
    "2. In sklearn r2_score function is available to find r2_score"
   ]
  },
  {
   "cell_type": "code",
   "execution_count": 8,
   "metadata": {
    "id": "EdpJO8nNZzls",
    "outputId": "a4dd11b0-4440-4655-93c1-7b8478db42a3"
   },
   "outputs": [
    {
     "name": "stdout",
     "output_type": "stream",
     "text": [
      "RMSE =  35.365829968791466\n",
      "SSE =  78796.74155103252\n",
      "r2score=  0.8333466719794502\n"
     ]
    }
   ],
   "source": [
    "RMSE = sqrt(mean_squared_error(df.Y, m*df.X+c))\n",
    "SSE  = mean_squared_error(df.Y, m*df.X+c) * len(df.Y)\n",
    "r2   = r2_score(df.Y, m*df.X+c)\n",
    "print(\"RMSE = \", RMSE)\n",
    "print(\"SSE = \", SSE)\n",
    "print(\"r2score= \", r2)"
   ]
  },
  {
   "cell_type": "markdown",
   "metadata": {
    "id": "zI0_nch-Zzls"
   },
   "source": [
    "# Implementation of linear regression using Gradient Descent\n",
    "To learn more about linear regression using gradient descent you can read this 5 minutes article on Medium - [Link](https://towardsdatascience.com/linear-regression-using-gradient-descent-97a6c8700931)"
   ]
  },
  {
   "cell_type": "code",
   "execution_count": 9,
   "metadata": {
    "id": "M1jSjeZJZzlt",
    "outputId": "df5633ff-7ed1-4ceb-f8b0-940803712efa"
   },
   "outputs": [
    {
     "name": "stdout",
     "output_type": "stream",
     "text": [
      "3.839435644786321 0.28326102562162586\n"
     ]
    }
   ],
   "source": [
    "# Select Data\n",
    "X = df.iloc[:, 0]\n",
    "Y = df.iloc[:, 1]\n",
    "\n",
    "m = 0\n",
    "c = 0\n",
    "L = 0.00001        # The learning Rate\n",
    "epochs = 1000      # The number of iterations to perform gradient descent\n",
    "n = float(len(X))  # Number of elements in X\n",
    "\n",
    "# Performing Gradient Descent \n",
    "for i in range(epochs): \n",
    "    Y_pred = m*X + c                      # The current predicted value of Y\n",
    "    D_m = (-2/n) * sum(X * (Y - Y_pred))  # Derivative wrt m\n",
    "    D_c = (-2/n) * sum(Y - Y_pred)        # Derivative wrt c\n",
    "    m = m - L * D_m                       # Update m\n",
    "    c = c - L * D_c                       # Update c\n",
    "print (m, c)"
   ]
  },
  {
   "cell_type": "markdown",
   "metadata": {
    "id": "nooelzerZzlt"
   },
   "source": [
    "### Quantify goodness of the model and discuss steps taken for improvement (RMSE, SSE, R2Score)."
   ]
  },
  {
   "cell_type": "code",
   "execution_count": 10,
   "metadata": {
    "id": "gWUKOPOwZzlu",
    "outputId": "fd6b4c7f-1db1-4b0b-b3d7-48f954fd0ab2"
   },
   "outputs": [
    {
     "name": "stdout",
     "output_type": "stream",
     "text": [
      "RMSE =  38.042215166609445\n",
      "SSE =  91174.23849130442\n",
      "r2score=  0.8071685456120731\n"
     ]
    }
   ],
   "source": [
    "RMSE = sqrt(mean_squared_error(df.Y, m*df.X+c))\n",
    "SSE  = mean_squared_error(df.Y, m*df.X+c) * len(df.Y)\n",
    "r2   = r2_score(df.Y, m*df.X+c)\n",
    "print(\"RMSE = \", RMSE)\n",
    "print(\"SSE = \", SSE)\n",
    "print(\"r2score= \", r2)"
   ]
  },
  {
   "cell_type": "markdown",
   "metadata": {
    "id": "7mW02DY1Zzlv"
   },
   "source": [
    "# Implementation of linear regression Using sklearn API"
   ]
  },
  {
   "cell_type": "code",
   "execution_count": 11,
   "metadata": {
    "id": "JncdcqFDZzlv",
    "outputId": "577d1d63-b61b-4adb-b3e5-5fe1e6102786"
   },
   "outputs": [
    {
     "data": {
      "text/plain": [
       "LinearRegression()"
      ]
     },
     "execution_count": 11,
     "metadata": {},
     "output_type": "execute_result"
    }
   ],
   "source": [
    "# Select Data\n",
    "X = pd.DataFrame(df.X)\n",
    "Y = df.Y\n",
    "\n",
    "# Create object of algorithm\n",
    "rg = linear_model.LinearRegression()\n",
    "# Create model by fitting data\n",
    "rg.fit(X, Y)"
   ]
  },
  {
   "cell_type": "markdown",
   "metadata": {
    "id": "7qmvDG4qZzlw"
   },
   "source": [
    "### Quantify goodness of the model and discuss steps taken for improvement (RMSE, SSE, R2Score)."
   ]
  },
  {
   "cell_type": "code",
   "execution_count": 12,
   "metadata": {
    "id": "ljB4KjjWZzlw",
    "outputId": "b3a4632d-bc26-48af-d821-faa6f385985e"
   },
   "outputs": [
    {
     "name": "stdout",
     "output_type": "stream",
     "text": [
      "RMSE =  38.042215166609445\n",
      "SSE =  91174.23849130442\n",
      "r2score=  0.8071685456120731\n"
     ]
    }
   ],
   "source": [
    "RMSE = sqrt(mean_squared_error(df.Y, m*df.X+c))\n",
    "SSE  = mean_squared_error(df.Y, m*df.X+c) * len(df.Y)\n",
    "r2   = r2_score(df.Y, m*df.X+c)\n",
    "print(\"RMSE = \", RMSE)\n",
    "print(\"SSE = \", SSE)\n",
    "print(\"r2score= \", r2)"
   ]
  },
  {
   "cell_type": "markdown",
   "metadata": {
    "id": "LGO37cwIZzlw"
   },
   "source": [
    "### Plot data with Regression Line"
   ]
  },
  {
   "cell_type": "code",
   "execution_count": 13,
   "metadata": {
    "id": "vfbGTPkqZzlx",
    "outputId": "016bb5a4-f66f-499f-aea9-0886801d6985"
   },
   "outputs": [
    {
     "data": {
      "image/png": "[encoded data removed]",
      "text/plain": [
       "<Figure size 432x288 with 1 Axes>"
      ]
     },
     "metadata": {
      "needs_background": "light"
     },
     "output_type": "display_data"
    }
   ],
   "source": [
    "x = np.array(range(0,int(X.max())))\n",
    "x = x.reshape(1,124)\n",
    "y = x*rg.coef_\n",
    "\n",
    "plt.scatter(df.X, df.Y)\n",
    "plt.plot(x[0], y[0], c='black')\n",
    "plt.xlabel('X')\n",
    "plt.ylabel('Y')\n",
    "plt.title('Plot for Regression line fit on Train and Test data')\n",
    "plt.show()"
   ]
  },
  {
   "cell_type": "code",
   "execution_count": null,
   "metadata": {},
   "outputs": [],
   "source": []
  }
 ],
 "metadata": {
  "anaconda-cloud": {},
  "colab": {
   "name": "Linear Regression.ipynb",
   "provenance": []
  },
  "kernelspec": {
   "display_name": "Python 3 (ipykernel)",
   "language": "python",
   "name": "python3"
  },
  "language_info": {
   "codemirror_mode": {
    "name": "ipython",
    "version": 3
   },
   "file_extension": ".py",
   "mimetype": "text/x-python",
   "name": "python",
   "nbconvert_exporter": "python",
   "pygments_lexer": "ipython3",
   "version": "3.9.7"
  }
 },
 "nbformat": 4,
 "nbformat_minor": 1
}
